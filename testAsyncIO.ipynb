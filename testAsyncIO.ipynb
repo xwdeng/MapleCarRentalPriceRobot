{
 "cells": [
  {
   "cell_type": "code",
   "execution_count": 7,
   "metadata": {},
   "outputs": [
    {
     "name": "stdout",
     "output_type": "stream",
     "text": [
      "GET:  http://integralist.co.uk/foo?run=1500512883.0059152\n",
      "GET:  http://integralist.co.uk/bar?run=1500512883.0059152\n",
      "Done: 21:08:03, http://www.integralist.co.uk/bar?run=1500512883.0059152 (404)\n",
      "Done: 21:08:03, http://www.integralist.co.uk/foo?run=1500512883.0059152 (404)\n"
     ]
    },
    {
     "data": {
      "text/plain": [
       "({<Task finished coro=<get() done, defined at <ipython-input-7-10549db40207>:10> result=None>,\n",
       "  <Task finished coro=<get() done, defined at <ipython-input-7-10549db40207>:10> result=None>},\n",
       " set())"
      ]
     },
     "execution_count": 7,
     "metadata": {},
     "output_type": "execute_result"
    }
   ],
   "source": [
    "import time\n",
    "import datetime\n",
    "import asyncio\n",
    "import aiohttp\n",
    "\n",
    "domain = 'http://integralist.co.uk'\n",
    "a = '{}/foo?run={}'.format(domain, time.time())\n",
    "b = '{}/bar?run={}'.format(domain, time.time())\n",
    "\n",
    "async def get(url):\n",
    "    print('GET: ', url)\n",
    "    async with aiohttp.ClientSession() as session:\n",
    "        async with session.get(url) as response:\n",
    "            t = '{0:%H:%M:%S}'.format(datetime.datetime.now())\n",
    "            print('Done: {}, {} ({})'.format(t, response.url, response.status))\n",
    "\n",
    "loop = asyncio.get_event_loop()\n",
    "tasks = [\n",
    "    asyncio.ensure_future(get(a)),\n",
    "    asyncio.ensure_future(get(b))\n",
    "]\n",
    "loop.run_until_complete(asyncio.wait(tasks))"
   ]
  },
  {
   "cell_type": "code",
   "execution_count": null,
   "metadata": {},
   "outputs": [],
   "source": []
  },
  {
   "cell_type": "code",
   "execution_count": null,
   "metadata": {},
   "outputs": [],
   "source": []
  },
  {
   "cell_type": "code",
   "execution_count": 8,
   "metadata": {},
   "outputs": [
    {
     "name": "stdout",
     "output_type": "stream",
     "text": [
      "2017/07/22 min_dRate:47.96\n",
      "2017/07/21 min_dRate:35.96\n",
      "2017/07/23 min_dRate:47.96\n",
      "2017/07/31 min_dRate:39.99\n",
      "2017/07/28 min_dRate:34.99\n",
      "2017/07/27 min_dRate:39.99\n",
      "2017/07/29 min_dRate:34.99\n",
      "2017/08/05 min_dRate:36.99\n",
      "2017/08/15 min_dRate:28.99\n",
      "2017/08/01 min_dRate:39.99\n",
      "2017/08/02 min_dRate:28.99\n",
      "2017/08/13 min_dRate:28.99\n",
      "2017/07/30 min_dRate:34.99\n",
      "2017/08/04 min_dRate:36.99\n",
      "2017/08/03 min_dRate:28.99\n",
      "2017/08/12 min_dRate:39.99\n",
      "2017/08/08 min_dRate:28.99\n",
      "2017/08/17 min_dRate:28.99\n",
      "2017/08/11 min_dRate:39.99\n",
      "2017/08/10 min_dRate:28.99\n",
      "2017/08/07 min_dRate:28.99\n",
      "2017/07/25 min_dRate:69.99\n",
      "2017/07/26 min_dRate:69.99\n",
      "2017/08/09 min_dRate:28.99\n",
      "2017/07/22 min_dRate:47.96\n",
      "2017/08/14 min_dRate:28.99\n",
      "2017/08/06 min_dRate:28.99\n",
      "2017/08/18 min_dRate:39.99\n",
      "2017/07/21 min_dRate:35.96\n",
      "2017/07/23 min_dRate:47.96\n",
      "2017/07/30 min_dRate:34.99\n",
      "2017/07/27 min_dRate:39.99\n",
      "2017/07/28 min_dRate:34.99\n",
      "2017/08/16 min_dRate:28.99\n",
      "2017/08/09 min_dRate:28.99\n",
      "2017/07/20 min_dRate:69.99\n",
      "2017/08/12 min_dRate:39.99\n",
      "2017/07/20 min_dRate:69.99\n",
      "2017/08/02 min_dRate:28.99\n",
      "2017/08/11 min_dRate:39.99\n",
      "2017/07/29 min_dRate:34.99\n",
      "2017/07/24 min_dRate:69.99\n",
      "2017/07/25 min_dRate:69.99\n",
      "2017/08/07 min_dRate:28.99\n",
      "2017/08/13 min_dRate:28.99\n",
      "2017/08/08 min_dRate:28.99\n",
      "2017/08/10 min_dRate:28.99\n",
      "2017/07/24 min_dRate:69.99\n",
      "2017/07/26 min_dRate:69.99\n",
      "2017/08/01 min_dRate:39.99\n",
      "2017/07/31 min_dRate:39.99\n",
      "2017/08/06 min_dRate:28.99\n",
      "2017/08/04 min_dRate:36.99\n",
      "2017/08/03 min_dRate:28.99\n",
      "2017/08/16 min_dRate:28.99\n",
      "2017/08/05 min_dRate:36.99\n",
      "2017/08/17 min_dRate:28.99\n",
      "2017/08/15 min_dRate:28.99\n",
      "2017/08/18 min_dRate:39.99\n",
      "2017/08/14 min_dRate:28.99\n",
      "time spend: 5.994824870225102seconds.\n"
     ]
    }
   ],
   "source": [
    "import json\n",
    "'''\n",
    "import json\n",
    "url = 'https://api.github.com/some/endpoint'\n",
    "payload = {'some': 'data'}\n",
    "headers = {'content-type': 'application/json'}\n",
    "\n",
    "await session.post(url,\n",
    "                   data=json.dumps(payload),\n",
    "                   headers=headers)\n",
    "'''\n",
    "import random\n",
    "import asyncio\n",
    "async def post(post_url):\n",
    "    #print('post: ', post_url.url)\n",
    "    async with aiohttp.ClientSession() as session:\n",
    "        async with session.post(post_url.url, data = json.dumps(post_url.data), headers = post_url.headers) as response:\n",
    "            t = '{0:%H:%M:%S}'.format(datetime.datetime.now())\n",
    "            #print('Done: {}, {} ({})'.format(t, response.url, response.status))\n",
    "            randWait = random.uniform(0, 0.1)\n",
    "            await asyncio.sleep(randWait)\n",
    "            \n",
    "            respJsonStr = await response.text()\n",
    "            respJson = json.loads(respJsonStr)\n",
    "            min_dRate = 10000.0\n",
    "            for i in respJson:\n",
    "                dRate = i['dailyRate']\n",
    "                if isinstance(dRate, float):\n",
    "                    if (dRate > 0 and dRate < min_dRate):\n",
    "                        min_dRate = dRate\n",
    "            if min_dRate != 10000.0:\n",
    "                print(post_url.data['puDate'] + \" min_dRate:\" + str(min_dRate))\n",
    "            return min_dRate\n",
    "        \n",
    "loop = asyncio.get_event_loop()\n",
    "tasks = []\n",
    "for taskURL in post_url_list[0:30]:\n",
    "    tasks.append(asyncio.ensure_future(post(taskURL)))\n",
    "    \n",
    "start = time.clock()\n",
    "loop.run_until_complete(asyncio.wait(tasks))\n",
    "print(\"time spend: \" + str(time.clock() - start) + \"seconds.\")"
   ]
  },
  {
   "cell_type": "code",
   "execution_count": null,
   "metadata": {},
   "outputs": [],
   "source": [
    "for task in tasks:\n",
    "    print(task.result())"
   ]
  },
  {
   "cell_type": "code",
   "execution_count": 1,
   "metadata": {},
   "outputs": [
    {
     "name": "stdout",
     "output_type": "stream",
     "text": [
      "time spend: 1.7886828301684468seconds.\n"
     ]
    },
    {
     "data": {
      "text/plain": [
       "'2017/07/20 min_dRate:69.99\\n2017/07/21 min_dRate:35.96\\n2017/07/22 min_dRate:47.96\\n2017/07/23 min_dRate:47.96\\n2017/07/24 min_dRate:69.99\\n2017/07/25 min_dRate:69.99\\n2017/07/26 min_dRate:69.99\\n2017/07/27 min_dRate:39.99\\n2017/07/28 min_dRate:34.99\\n2017/07/29 min_dRate:34.99\\n'"
      ]
     },
     "execution_count": 1,
     "metadata": {},
     "output_type": "execute_result"
    }
   ],
   "source": [
    "import discountCarRentalAPI\n",
    "post_url_list = discountCarRentalAPI.GetNext30DayAvailableCarsWithRate(169)\n",
    "import my_module\n",
    "my_module.processPostUrlList(post_url_list[0:10])"
   ]
  },
  {
   "cell_type": "code",
   "execution_count": 9,
   "metadata": {},
   "outputs": [
    {
     "name": "stdout",
     "output_type": "stream",
     "text": [
      "[[<Task finished coro=<post() done, defined at <ipython-input-8-37025482c829>:14> result=69.99>, <Task finished coro=<post() done, defined at <ipython-input-8-37025482c829>:14> result=35.96>, <Task finished coro=<post() done, defined at <ipython-input-8-37025482c829>:14> result=47.96>, <Task finished coro=<post() done, defined at <ipython-input-8-37025482c829>:14> result=47.96>, <Task finished coro=<post() done, defined at <ipython-input-8-37025482c829>:14> result=69.99>, <Task finished coro=<post() done, defined at <ipython-input-8-37025482c829>:14> result=69.99>, <Task finished coro=<post() done, defined at <ipython-input-8-37025482c829>:14> result=69.99>, <Task finished coro=<post() done, defined at <ipython-input-8-37025482c829>:14> result=39.99>, <Task finished coro=<post() done, defined at <ipython-input-8-37025482c829>:14> result=34.99>, <Task finished coro=<post() done, defined at <ipython-input-8-37025482c829>:14> result=34.99>], [<Task finished coro=<post() done, defined at <ipython-input-8-37025482c829>:14> result=34.99>, <Task finished coro=<post() done, defined at <ipython-input-8-37025482c829>:14> result=39.99>, <Task finished coro=<post() done, defined at <ipython-input-8-37025482c829>:14> result=39.99>, <Task finished coro=<post() done, defined at <ipython-input-8-37025482c829>:14> result=28.99>, <Task finished coro=<post() done, defined at <ipython-input-8-37025482c829>:14> result=28.99>, <Task finished coro=<post() done, defined at <ipython-input-8-37025482c829>:14> result=36.99>, <Task finished coro=<post() done, defined at <ipython-input-8-37025482c829>:14> result=36.99>, <Task finished coro=<post() done, defined at <ipython-input-8-37025482c829>:14> result=28.99>, <Task finished coro=<post() done, defined at <ipython-input-8-37025482c829>:14> result=28.99>, <Task finished coro=<post() done, defined at <ipython-input-8-37025482c829>:14> result=28.99>], [<Task finished coro=<post() done, defined at <ipython-input-8-37025482c829>:14> result=28.99>, <Task finished coro=<post() done, defined at <ipython-input-8-37025482c829>:14> result=28.99>, <Task finished coro=<post() done, defined at <ipython-input-8-37025482c829>:14> result=39.99>, <Task finished coro=<post() done, defined at <ipython-input-8-37025482c829>:14> result=39.99>, <Task finished coro=<post() done, defined at <ipython-input-8-37025482c829>:14> result=28.99>, <Task finished coro=<post() done, defined at <ipython-input-8-37025482c829>:14> result=28.99>, <Task finished coro=<post() done, defined at <ipython-input-8-37025482c829>:14> result=28.99>, <Task finished coro=<post() done, defined at <ipython-input-8-37025482c829>:14> result=28.99>, <Task finished coro=<post() done, defined at <ipython-input-8-37025482c829>:14> result=28.99>, <Task finished coro=<post() done, defined at <ipython-input-8-37025482c829>:14> result=39.99>]]\n"
     ]
    }
   ],
   "source": [
    "def chunks(seq, n):\n",
    "    return (seq[i:i+n] for i in range(0, len(seq), n))\n",
    "\n",
    "print(list(chunks(tasks, 10)))"
   ]
  },
  {
   "cell_type": "code",
   "execution_count": null,
   "metadata": {
    "collapsed": true
   },
   "outputs": [],
   "source": []
  }
 ],
 "metadata": {
  "kernelspec": {
   "display_name": "Python 3",
   "language": "python",
   "name": "python3"
  },
  "language_info": {
   "codemirror_mode": {
    "name": "ipython",
    "version": 3
   },
   "file_extension": ".py",
   "mimetype": "text/x-python",
   "name": "python",
   "nbconvert_exporter": "python",
   "pygments_lexer": "ipython3",
   "version": "3.6.1"
  }
 },
 "nbformat": 4,
 "nbformat_minor": 2
}
