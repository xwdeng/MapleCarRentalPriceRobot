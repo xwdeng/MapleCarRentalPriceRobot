{
 "cells": [
  {
   "cell_type": "code",
   "execution_count": 1,
   "metadata": {},
   "outputs": [
    {
     "name": "stdout",
     "output_type": "stream",
     "text": [
      "<RequestsCookieJar[<Cookie AVIS_SECURE_COOKIE=8DA864A3-CB90-5B27-9CD0-236BFE654E20628BD7B3 for www.avis.ca/>, <Cookie WLSID=r_pgqTsqPMP4cAd3eoRrjXIWeCEw7NEmHWtHemtH47mPtgo1DsrO!-1805580923 for www.avis.ca/>, <Cookie datacenter=newboulder for www.avis.ca/>]>\n"
     ]
    }
   ],
   "source": [
    "import requests\n",
    "\n",
    "\n",
    "\n",
    "data = [\n",
    "  ('resForm.pickUpDate', '08/22/2017'),\n",
    "  ('resForm.pickUpTime', '09:00 PM'),\n",
    "  ('resForm.dropOffDate', '08/23/2017'),\n",
    "  ('resForm.dropOffTime', '09:00 PM'),\n",
    "  ('resForm.pickUpLocation', '2350 Upper James Street, Hamilton, Ontario, Canada-(HT4)'),\n",
    "  ('pickupKeywordValue', ''),\n",
    "  ('pickupSuggestionValue', ''),\n",
    "  ('pickupCityFlag', 'false'),\n",
    "  ('pickupSelectedValue', ''),\n",
    "  ('resForm.pickupAddressVO.countryCode', 'CA'),\n",
    "  ('resForm.pickupAddressVO.address', ''),\n",
    "  ('resForm.pickupAddressVO.city', ''),\n",
    "  ('resForm.pickupAddressVO.stateCode', ''),\n",
    "  ('resForm.pickupAddressVO.zipCode', ''),\n",
    "  ('__checkbox_resForm.returnSameAsPickUp.value', 'true'),\n",
    "  ('resForm.dropOffLocation', 'Airport, city, zip, address, attraction'),\n",
    "  ('hiddenRtnLoc', ''),\n",
    "  ('dropoffKeywordValue', ''),\n",
    "  ('dropoffSuggestionValue', ''),\n",
    "  ('dropoffCityFlag', 'false'),\n",
    "  ('dropoffSelectedValue', ''),\n",
    "  ('resForm.dropOffAddressVO.countryCode', 'CA'),\n",
    "  ('resForm.dropOffAddressVO.address', ''),\n",
    "  ('resForm.dropOffAddressVO.city', ''),\n",
    "  ('resForm.dropOffAddressVO.stateCode', ''),\n",
    "  ('resForm.dropOffAddressVO.zipCode', ''),\n",
    "  ('resForm.age', '25+'),\n",
    "  ('resForm.USResident.value', 'true'),\n",
    "  ('__checkbox_resForm.USResident.value', 'true'),\n",
    "  ('resForm.countryOfRes.value', 'CA'),\n",
    "  ('__checkbox_resForm.wizardInfo.value', 'true'),\n",
    "  ('resForm.wizardNumber.value', ''),\n",
    "  ('resForm.lastName.value', ''),\n",
    "  ('__checkbox_resForm.promotionInfo.value', 'true'),\n",
    "  ('resForm.awdRateCode.value', ''),\n",
    "  ('resForm.awdNonUSRateCode.value', ''),\n",
    "  ('resForm.couponCode', ''),\n",
    "  ('resForm.rateCode.value', ''),\n",
    "  ('resForm.vehicleCategoryType', ''),\n",
    "  ('resForm.vehicleCategoryDescription', ''),\n",
    "  ('resForm.vehicleCountry', ''),\n",
    "  ('resForm.truckSuggestion', 'false'),\n",
    "  ('resForm.reservationDisplayVO.userEnteredCoupon', 'false'),\n",
    "  ('resForm.clearPromotionInfo', 'true'),\n",
    "  ('resForm.paperCoupon', 'false'),\n",
    "]\n",
    "\n",
    "headers = {\n",
    "    'origin': 'https://www.avis.ca',\n",
    "    'accept-encoding': 'gzip, deflate, br',\n",
    "    'accept-language': 'en-US,en;q=0.8,zh-CN;q=0.6,zh;q=0.4,zh-TW;q=0.2',\n",
    "    'upgrade-insecure-requests': '1',\n",
    "    'user-agent': 'Mozilla/5.0 (Windows NT 10.0; Win64; x64) AppleWebKit/537.36 (KHTML, like Gecko) Chrome/59.0.3071.115 Safari/537.36',\n",
    "    'content-type': 'application/x-www-form-urlencoded',\n",
    "    'accept': 'text/html,application/xhtml+xml,application/xml;q=0.9,image/webp,image/apng,*/*;q=0.8',\n",
    "    'cache-control': 'max-age=0',\n",
    "    'authority': 'www.avis.ca',\n",
    "}\n",
    "session = requests.Session()\n",
    "session.get('https://www.avis.ca', headers=headers)\n",
    "print(session.cookies)\n",
    "r = session.post('https://www.avis.ca/car-rental/reservation/time-place-submit.ac', data=data)\n",
    "rtext = r.text\n",
    "if \"price\" in rtext:\n",
    "    print(\"YES\")"
   ]
  },
  {
   "cell_type": "code",
   "execution_count": null,
   "metadata": {},
   "outputs": [],
   "source": [
    "print(rtext)\n"
   ]
  },
  {
   "cell_type": "code",
   "execution_count": null,
   "metadata": {
    "collapsed": true
   },
   "outputs": [],
   "source": []
  }
 ],
 "metadata": {
  "kernelspec": {
   "display_name": "Python 3",
   "language": "python",
   "name": "python3"
  },
  "language_info": {
   "codemirror_mode": {
    "name": "ipython",
    "version": 3
   },
   "file_extension": ".py",
   "mimetype": "text/x-python",
   "name": "python",
   "nbconvert_exporter": "python",
   "pygments_lexer": "ipython3",
   "version": "3.6.1"
  }
 },
 "nbformat": 4,
 "nbformat_minor": 2
}
