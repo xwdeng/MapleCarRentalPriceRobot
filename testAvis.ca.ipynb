{
 "cells": [
  {
   "cell_type": "code",
   "execution_count": 1,
   "metadata": {},
   "outputs": [
    {
     "name": "stdout",
     "output_type": "stream",
     "text": [
      "YES\n"
     ]
    }
   ],
   "source": [
    "import requests\n",
    "\n",
    "\n",
    "\n",
    "data = [\n",
    "  ('resForm.pickUpDate', '08/23/2017'),\n",
    "  ('resForm.pickUpTime', '12:00 PM'),\n",
    "  ('resForm.dropOffDate', '08/25/2017'),\n",
    "  ('resForm.dropOffTime', '12:00 PM'),\n",
    "  ('resForm.pickUpLocation', 'Ottawa Intl Airport, Ottawa, Ontario, Canada-(YOW)'),\n",
    "  ('pickupKeywordValue', ''),\n",
    "  ('pickupSuggestionValue', ''),\n",
    "  ('pickupCityFlag', 'true'),\n",
    "  ('pickupSelectedValue', ''),\n",
    "  ('__checkbox_resForm.returnSameAsPickUp.value', 'true'),\n",
    "  ('resForm.dropOffLocation', 'Airport, city, zip, address, attraction'),\n",
    "  ('hiddenRtnLoc', ''),\n",
    "  ('dropoffKeywordValue', ''),\n",
    "  ('dropoffSuggestionValue', ''),\n",
    "  ('dropoffCityFlag', 'false'),\n",
    "  ('dropoffSelectedValue', ''),\n",
    "  ('resForm.age', '25+'),\n",
    "  ('resForm.USResident.value', 'true'),\n",
    "  ('__checkbox_resForm.USResident.value', 'true'),\n",
    "  ('resForm.countryOfRes.value', 'CA'),\n",
    "  ('__checkbox_resForm.wizardInfo.value', 'true'),\n",
    "  ('resForm.wizardNumber.value', ''),\n",
    "  ('resForm.lastName.value', ''),\n",
    "  ('__checkbox_resForm.promotionInfo.value', 'true'),\n",
    "  ('resForm.awdRateCode.value', ''),\n",
    "  ('resForm.awdNonUSRateCode.value', ''),\n",
    "  ('resForm.couponCode', ''),\n",
    "  ('resForm.rateCode.value', ''),\n",
    "  ('resForm.reservationDisplayVO.userEnteredCoupon', 'false'),\n",
    "  ('resForm.clearPromotionInfo', 'true'),\n",
    "  ('resForm.paperCoupon', 'false'),\n",
    "  ('resForm.samePage', 'avisHome'),\n",
    "  ('resForm.vehicleCategoryType', ''),\n",
    "  ('resForm.vehicleCategoryDescription', ''),\n",
    "  ('resForm.vehicleCountry', 'CA'),\n",
    "  ('resForm.truckSuggestion', 'false'),\n",
    "]\n",
    "\n",
    "headers = {\n",
    "    'Origin': 'https://www.avis.ca',\n",
    "    'Accept-Encoding': 'gzip, deflate, br',\n",
    "    'Accept-Language': 'en-US,en;q=0.8,zh-CN;q=0.6,zh;q=0.4,zh-TW;q=0.2',\n",
    "    'Upgrade-Insecure-Requests': '1',\n",
    "    'User-Agent': 'Mozilla/5.0 (Windows NT 10.0; Win64; x64) AppleWebKit/537.36 (KHTML, like Gecko) Chrome/59.0.3071.115 Safari/537.36',\n",
    "    'Content-Type': 'application/x-www-form-urlencoded',\n",
    "    'Accept': 'text/html,application/xhtml+xml,application/xml;q=0.9,image/webp,image/apng,*/*;q=0.8',\n",
    "    'Cache-Control': 'max-age=0',\n",
    "    'Referer': 'https://www.avis.ca/car-rental/avisHome/home.ac',\n",
    "    'Connection': 'keep-alive',\n",
    "}\n",
    "session = requests.Session()\n",
    "#session.get('https://www.avis.ca') #, headers=headers\n",
    "#print(session.cookies)\n",
    "r = session.post('https://www.avis.ca/car-rental/reservation/time-place-submit.ac', headers=headers, data=data)\n",
    "rtext = r.text\n",
    "if \"price\" in rtext:\n",
    "    print(\"YES\")"
   ]
  },
  {
   "cell_type": "code",
   "execution_count": 3,
   "metadata": {},
   "outputs": [
    {
     "name": "stdout",
     "output_type": "stream",
     "text": [
      "200\n"
     ]
    }
   ],
   "source": [
    "print(r.status_code)\n"
   ]
  },
  {
   "cell_type": "code",
   "execution_count": null,
   "metadata": {
    "collapsed": true
   },
   "outputs": [],
   "source": [
    "from seleniumrequests import PhantomJS\n",
    "driver = PhantomJS()\n",
    "driver.get(\"https://www.avis.ca\")\n",
    "driver.get_cookies()\n",
    "res = driver.request('POST','https://www.avis.ca/car-rental/reservation/time-place-submit.ac', data=data)\n",
    "print(driver.page_source)"
   ]
  },
  {
   "cell_type": "code",
   "execution_count": null,
   "metadata": {
    "collapsed": true
   },
   "outputs": [],
   "source": [
    "driver.get_cookies()"
   ]
  },
  {
   "cell_type": "code",
   "execution_count": null,
   "metadata": {
    "collapsed": true
   },
   "outputs": [],
   "source": [
    "driver.get"
   ]
  },
  {
   "cell_type": "code",
   "execution_count": 2,
   "metadata": {},
   "outputs": [
    {
     "name": "stdout",
     "output_type": "stream",
     "text": [
      "<option id=\"sPrice\" class=\"btnSort\" value=\"span.plprice\">Price (Low to High)</option>\n",
      "</span><span class=\"plprice\" style=\"display : none\">89.80</span>\n",
      "</span><span class=\"plprice\" style=\"display : none\">89.80</span>\n",
      "</span><span class=\"plprice\" style=\"display : none\">92.06</span>\n",
      "</span><span class=\"plprice\" style=\"display : none\">96.58</span>\n",
      "</span><span class=\"plprice\" style=\"display : none\">96.58</span>\n",
      "</span><span class=\"plprice\" style=\"display : none\">97.71</span>\n"
     ]
    }
   ],
   "source": [
    "import requests\n",
    "\n",
    "cookies = {\n",
    "    'WLSID': 'xlBheTRPjtekHSjkqs2Z9nSJ5Ie2rmN9c4f0uPPY3cFSpSsdzaex!1576935396',\n",
    "    'AVIS_SECURE_COOKIE': '3A57007F-256A-4A7B-EC58-E4BBCC93FDD9B8BBAF02',\n",
    "    'datacenter': 'newcolumbus',\n",
    "}\n",
    "\n",
    "headers = {\n",
    "    'Origin': 'https://www.avis.ca',\n",
    "    'Accept-Encoding': 'gzip, deflate, br',\n",
    "    'Accept-Language': 'en-US,en;q=0.8,zh-CN;q=0.6,zh;q=0.4,zh-TW;q=0.2',\n",
    "    'Upgrade-Insecure-Requests': '1',\n",
    "    'User-Agent': 'Mozilla/5.0 (Windows NT 10.0; Win64; x64) AppleWebKit/537.36 (KHTML, like Gecko) Chrome/59.0.3071.115 Safari/537.36',\n",
    "    'Content-Type': 'application/x-www-form-urlencoded',\n",
    "    'Accept': 'text/html,application/xhtml+xml,application/xml;q=0.9,image/webp,image/apng,*/*;q=0.8',\n",
    "    'Cache-Control': 'max-age=0',\n",
    "    'Referer': 'https://www.avis.ca/car-rental/avisHome/home.ac',\n",
    "    'Connection': 'keep-alive',\n",
    "}\n",
    "\n",
    "location = '2350 Upper James Street, Hamilton, Ontario, Canada-(HT4)'\n",
    "data = [\n",
    "  ('resForm.pickUpDate', '07/23/2017'),\n",
    "  ('resForm.pickUpTime', '12:00 PM'),\n",
    "  ('resForm.dropOffDate', '07/24/2017'),\n",
    "  ('resForm.dropOffTime', '12:00 PM'),\n",
    "  ('resForm.pickUpLocation', location),\n",
    "  ('pickupKeywordValue', ''),\n",
    "  ('pickupSuggestionValue', ''),\n",
    "  ('pickupCityFlag', 'true'),\n",
    "  ('pickupSelectedValue', ''),\n",
    "  ('__checkbox_resForm.returnSameAsPickUp.value', 'true'),\n",
    "  ('resForm.dropOffLocation', location),\n",
    "  ('hiddenRtnLoc', ''),\n",
    "  ('dropoffKeywordValue', ''),\n",
    "  ('dropoffSuggestionValue', ''),\n",
    "  ('dropoffCityFlag', 'false'),\n",
    "  ('dropoffSelectedValue', ''),\n",
    "  ('resForm.age', '25+'),\n",
    "  ('resForm.USResident.value', 'true'),\n",
    "  ('__checkbox_resForm.USResident.value', 'true'),\n",
    "  ('resForm.countryOfRes.value', 'CA'),\n",
    "  ('__checkbox_resForm.wizardInfo.value', 'true'),\n",
    "  ('resForm.wizardNumber.value', ''),\n",
    "  ('resForm.lastName.value', ''),\n",
    "  ('__checkbox_resForm.promotionInfo.value', 'true'),\n",
    "  ('resForm.awdRateCode.value', ''),\n",
    "  ('resForm.awdNonUSRateCode.value', ''),\n",
    "  ('resForm.couponCode', ''),\n",
    "  ('resForm.rateCode.value', ''),\n",
    "  ('resForm.reservationDisplayVO.userEnteredCoupon', 'false'),\n",
    "  ('resForm.clearPromotionInfo', 'true'),\n",
    "  ('resForm.paperCoupon', 'false'),\n",
    "  ('resForm.samePage', 'avisHome'),\n",
    "  ('resForm.vehicleCategoryType', ''),\n",
    "  ('resForm.vehicleCategoryDescription', ''),\n",
    "  ('resForm.vehicleCountry', 'CA'),\n",
    "  ('resForm.truckSuggestion', 'false'),\n",
    "]\n",
    "\n",
    "r = requests.post('https://www.avis.ca/car-rental/reservation/time-place-submit.ac', headers=headers, data=data)\n",
    "rtext = r.text\n",
    "for line in rtext.splitlines():\n",
    "    if \"plprice\" in line:\n",
    "        print(line.strip())\n"
   ]
  },
  {
   "cell_type": "code",
   "execution_count": null,
   "metadata": {
    "collapsed": true
   },
   "outputs": [],
   "source": []
  }
 ],
 "metadata": {
  "kernelspec": {
   "display_name": "Python 3",
   "language": "python",
   "name": "python3"
  },
  "language_info": {
   "codemirror_mode": {
    "name": "ipython",
    "version": 3
   },
   "file_extension": ".py",
   "mimetype": "text/x-python",
   "name": "python",
   "nbconvert_exporter": "python",
   "pygments_lexer": "ipython3",
   "version": "3.6.1"
  }
 },
 "nbformat": 4,
 "nbformat_minor": 2
}
