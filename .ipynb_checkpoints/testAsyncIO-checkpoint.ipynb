{
 "cells": [
  {
   "cell_type": "code",
   "execution_count": null,
   "metadata": {},
   "outputs": [],
   "source": [
    "import time\n",
    "import datetime\n",
    "import asyncio\n",
    "import aiohttp\n",
    "\n",
    "domain = 'http://integralist.co.uk'\n",
    "a = '{}/foo?run={}'.format(domain, time.time())\n",
    "b = '{}/bar?run={}'.format(domain, time.time())\n",
    "\n",
    "async def get(url):\n",
    "    print('GET: ', url)\n",
    "    async with aiohttp.ClientSession() as session:\n",
    "        async with session.get(url) as response:\n",
    "            t = '{0:%H:%M:%S}'.format(datetime.datetime.now())\n",
    "            print('Done: {}, {} ({})'.format(t, response.url, response.status))\n",
    "\n",
    "loop = asyncio.get_event_loop()\n",
    "tasks = [\n",
    "    asyncio.ensure_future(get(a)),\n",
    "    asyncio.ensure_future(get(b))\n",
    "]\n",
    "loop.run_until_complete(asyncio.wait(tasks))"
   ]
  },
  {
   "cell_type": "code",
   "execution_count": null,
   "metadata": {},
   "outputs": [],
   "source": []
  },
  {
   "cell_type": "code",
   "execution_count": null,
   "metadata": {},
   "outputs": [],
   "source": []
  },
  {
   "cell_type": "code",
   "execution_count": null,
   "metadata": {},
   "outputs": [],
   "source": [
    "import json\n",
    "'''\n",
    "import json\n",
    "url = 'https://api.github.com/some/endpoint'\n",
    "payload = {'some': 'data'}\n",
    "headers = {'content-type': 'application/json'}\n",
    "\n",
    "await session.post(url,\n",
    "                   data=json.dumps(payload),\n",
    "                   headers=headers)\n",
    "'''\n",
    "import random\n",
    "import asyncio\n",
    "async def post(post_url):\n",
    "    #print('post: ', post_url.url)\n",
    "    async with aiohttp.ClientSession() as session:\n",
    "        async with session.post(post_url.url, data = json.dumps(post_url.data), headers = post_url.headers) as response:\n",
    "            t = '{0:%H:%M:%S}'.format(datetime.datetime.now())\n",
    "            #print('Done: {}, {} ({})'.format(t, response.url, response.status))\n",
    "            randWait = random.uniform(0, 0.1)\n",
    "            await asyncio.sleep(randWait)\n",
    "            \n",
    "            respJsonStr = await response.text()\n",
    "            respJson = json.loads(respJsonStr)\n",
    "            min_dRate = 10000.0\n",
    "            for i in respJson:\n",
    "                dRate = i['dailyRate']\n",
    "                if isinstance(dRate, float):\n",
    "                    if (dRate > 0 and dRate < min_dRate):\n",
    "                        min_dRate = dRate\n",
    "            if min_dRate != 10000.0:\n",
    "                print(post_url.data['puDate'] + \" min_dRate:\" + str(min_dRate))\n",
    "            return min_dRate\n",
    "        \n",
    "loop = asyncio.get_event_loop()\n",
    "tasks = []\n",
    "for taskURL in post_url_list[0:30]:\n",
    "    tasks.append(asyncio.ensure_future(post(taskURL)))\n",
    "    \n",
    "start = time.clock()\n",
    "loop.run_until_complete(asyncio.wait(tasks))\n",
    "print(\"time spend: \" + str(time.clock() - start) + \"seconds.\")"
   ]
  },
  {
   "cell_type": "code",
   "execution_count": null,
   "metadata": {},
   "outputs": [],
   "source": [
    "for task in tasks:\n",
    "    print(task.result())"
   ]
  },
  {
   "cell_type": "code",
   "execution_count": 1,
   "metadata": {},
   "outputs": [
    {
     "name": "stdout",
     "output_type": "stream",
     "text": [
      "time spend: 1.7886828301684468seconds.\n"
     ]
    },
    {
     "data": {
      "text/plain": [
       "'2017/07/20 min_dRate:69.99\\n2017/07/21 min_dRate:35.96\\n2017/07/22 min_dRate:47.96\\n2017/07/23 min_dRate:47.96\\n2017/07/24 min_dRate:69.99\\n2017/07/25 min_dRate:69.99\\n2017/07/26 min_dRate:69.99\\n2017/07/27 min_dRate:39.99\\n2017/07/28 min_dRate:34.99\\n2017/07/29 min_dRate:34.99\\n'"
      ]
     },
     "execution_count": 1,
     "metadata": {},
     "output_type": "execute_result"
    }
   ],
   "source": [
    "import discountCarRentalAPI\n",
    "post_url_list = discountCarRentalAPI.GetNext30DayAvailableCarsWithRate(169)\n",
    "import my_module\n",
    "my_module.processPostUrlList(post_url_list[0:10])"
   ]
  },
  {
   "cell_type": "code",
   "execution_count": 5,
   "metadata": {},
   "outputs": [
    {
     "name": "stdout",
     "output_type": "stream",
     "text": [
      "[range(1, 11), range(11, 21), range(21, 31), range(31, 41), range(41, 51), range(51, 61), range(61, 71), range(71, 81), range(81, 91), range(91, 101), range(101, 111), range(111, 121), range(121, 131), range(131, 141), range(141, 151), range(151, 161), range(161, 171), range(171, 181), range(181, 191), range(191, 201), range(201, 211), range(211, 221), range(221, 231), range(231, 241), range(241, 251), range(251, 261), range(261, 271), range(271, 281), range(281, 291), range(291, 301), range(301, 311), range(311, 321), range(321, 331), range(331, 341), range(341, 351), range(351, 361), range(361, 371), range(371, 381), range(381, 391), range(391, 401), range(401, 411), range(411, 421), range(421, 431), range(431, 441), range(441, 451), range(451, 461), range(461, 471), range(471, 481), range(481, 491), range(491, 501), range(501, 511), range(511, 521), range(521, 531), range(531, 541), range(541, 551), range(551, 561), range(561, 571), range(571, 581), range(581, 591), range(591, 601), range(601, 611), range(611, 621), range(621, 631), range(631, 641), range(641, 651), range(651, 661), range(661, 671), range(671, 681), range(681, 691), range(691, 701), range(701, 711), range(711, 721), range(721, 731), range(731, 741), range(741, 751), range(751, 761), range(761, 771), range(771, 781), range(781, 791), range(791, 801), range(801, 811), range(811, 821), range(821, 831), range(831, 841), range(841, 851), range(851, 861), range(861, 871), range(871, 881), range(881, 891), range(891, 901), range(901, 911), range(911, 921), range(921, 931), range(931, 941), range(941, 951), range(951, 961), range(961, 971), range(971, 981), range(981, 991), range(991, 1000)]\n"
     ]
    }
   ],
   "source": [
    "def chunks(seq, n):\n",
    "    return (seq[i:i+n] for i in range(0, len(seq), n))\n",
    "\n",
    "print(list(chunks(range(1, 1000), 10)))"
   ]
  },
  {
   "cell_type": "code",
   "execution_count": null,
   "metadata": {
    "collapsed": true
   },
   "outputs": [],
   "source": []
  }
 ],
 "metadata": {
  "kernelspec": {
   "display_name": "Python 3",
   "language": "python",
   "name": "python3"
  },
  "language_info": {
   "codemirror_mode": {
    "name": "ipython",
    "version": 3
   },
   "file_extension": ".py",
   "mimetype": "text/x-python",
   "name": "python",
   "nbconvert_exporter": "python",
   "pygments_lexer": "ipython3",
   "version": "3.6.1"
  }
 },
 "nbformat": 4,
 "nbformat_minor": 2
}
