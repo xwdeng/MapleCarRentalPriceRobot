{
 "cells": [
  {
   "cell_type": "code",
   "execution_count": null,
   "metadata": {
    "collapsed": true
   },
   "outputs": [],
   "source": [
    "from datetime import timedelta\n",
    "import datetime"
   ]
  },
  {
   "cell_type": "code",
   "execution_count": null,
   "metadata": {},
   "outputs": [],
   "source": [
    "i=1\n",
    "today = datetime.date.today()\n",
    "PickupDate = today + datetime.timedelta(days=i)\n",
    "PickupDate_str = PickupDate.strftime(\"20%y/%02m/%02d\")"
   ]
  },
  {
   "cell_type": "code",
   "execution_count": null,
   "metadata": {},
   "outputs": [],
   "source": [
    "PickupDate.strftime(\"20%y/%m/%d\")"
   ]
  },
  {
   "cell_type": "code",
   "execution_count": 1,
   "metadata": {
    "collapsed": true
   },
   "outputs": [],
   "source": [
    "import discountAPI"
   ]
  },
  {
   "cell_type": "code",
   "execution_count": 2,
   "metadata": {},
   "outputs": [
    {
     "name": "stdout",
     "output_type": "stream",
     "text": [
      "This is the DiscountCar Rent Price Check Robot:\n",
      "Gen Time:Sun 2017-07-09 17:01:46\n",
      "2017/07/10\n",
      "ErrData\n",
      "2017/07/11\n",
      "ErrData\n",
      "2017/07/12\n",
      "ErrData\n",
      "2017/07/13\n",
      "ErrData\n",
      "2017/07/14\n",
      "ErrData\n",
      "2017/07/15\n",
      "ErrData\n",
      "2017/07/16\n",
      "ErrData\n",
      "2017/07/17\n",
      "ErrData\n",
      "2017/07/18\n",
      "ErrData\n",
      "2017/07/19\n",
      "ErrData\n",
      "2017/07/20\n",
      "ErrData\n",
      "2017/07/21\n",
      "ErrData\n",
      "2017/07/22\n",
      "ErrData\n",
      "2017/07/23\n",
      "ErrData\n",
      "2017/07/24\n",
      "ErrData\n",
      "2017/07/25\n",
      "ErrData\n",
      "2017/07/26\n",
      "ErrData\n"
     ]
    },
    {
     "ename": "KeyboardInterrupt",
     "evalue": "",
     "output_type": "error",
     "traceback": [
      "\u001b[1;31m---------------------------------------------------------------------------\u001b[0m",
      "\u001b[1;31mKeyboardInterrupt\u001b[0m                         Traceback (most recent call last)",
      "\u001b[1;32m<ipython-input-2-e2d30582a8b8>\u001b[0m in \u001b[0;36m<module>\u001b[1;34m()\u001b[0m\n\u001b[1;32m----> 1\u001b[1;33m \u001b[0mdiscountAPI\u001b[0m\u001b[1;33m.\u001b[0m\u001b[0madd_to_report\u001b[0m\u001b[1;33m(\u001b[0m\u001b[1;34m\"156\"\u001b[0m\u001b[1;33m)\u001b[0m\u001b[1;33m\u001b[0m\u001b[0m\n\u001b[0m",
      "\u001b[1;32mC:\\Users\\dengx2\\ubuntu1604\\MapleRentalCars\\discountAPI.py\u001b[0m in \u001b[0;36madd_to_report\u001b[1;34m(location_num)\u001b[0m\n\u001b[0;32m     83\u001b[0m              \u001b[0mprint\u001b[0m\u001b[1;33m(\u001b[0m\u001b[0mDayReport\u001b[0m\u001b[1;33m)\u001b[0m\u001b[1;33m\u001b[0m\u001b[0m\n\u001b[0;32m     84\u001b[0m \u001b[1;33m\u001b[0m\u001b[0m\n\u001b[1;32m---> 85\u001b[1;33m              \u001b[0mtime\u001b[0m\u001b[1;33m.\u001b[0m\u001b[0msleep\u001b[0m\u001b[1;33m(\u001b[0m\u001b[1;36m1.2\u001b[0m\u001b[1;33m)\u001b[0m\u001b[1;33m\u001b[0m\u001b[0m\n\u001b[0m",
      "\u001b[1;31mKeyboardInterrupt\u001b[0m: "
     ]
    }
   ],
   "source": [
    "discountAPI.add_to_report(\"156\")"
   ]
  },
  {
   "cell_type": "code",
   "execution_count": null,
   "metadata": {
    "collapsed": true
   },
   "outputs": [],
   "source": []
  }
 ],
 "metadata": {
  "kernelspec": {
   "display_name": "Python 3",
   "language": "python",
   "name": "python3"
  },
  "language_info": {
   "codemirror_mode": {
    "name": "ipython",
    "version": 3
   },
   "file_extension": ".py",
   "mimetype": "text/x-python",
   "name": "python",
   "nbconvert_exporter": "python",
   "pygments_lexer": "ipython3",
   "version": "3.6.1"
  }
 },
 "nbformat": 4,
 "nbformat_minor": 2
}
